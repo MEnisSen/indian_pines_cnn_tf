{
  "cells": [
    {
      "cell_type": "markdown",
      "metadata": {
        "id": "view-in-github",
        "colab_type": "text"
      },
      "source": [
        "<a href=\"https://colab.research.google.com/github/MEnisSen/indian_pines_cnn_tf/blob/main/HSI_CNN.ipynb\" target=\"_parent\"><img src=\"https://colab.research.google.com/assets/colab-badge.svg\" alt=\"Open In Colab\"/></a>"
      ]
    },
    {
      "cell_type": "markdown",
      "metadata": {
        "id": "ncHA7DtbbLXK"
      },
      "source": [
        "### **DATA**"
      ]
    },
    {
      "cell_type": "code",
      "execution_count": null,
      "metadata": {
        "id": "xhoRQnlpkkuG"
      },
      "outputs": [],
      "source": [
        "!pip install -U -q scipy"
      ]
    },
    {
      "cell_type": "code",
      "execution_count": null,
      "metadata": {
        "id": "krAeQwXabK7E"
      },
      "outputs": [],
      "source": [
        "import numpy as np\n",
        "import matplotlib.pyplot as plt\n",
        "import pandas as pd\n",
        "from scipy.io import loadmat\n",
        "\n",
        "#data_url = \"https://github.com/MEnisSen/indian_pines_cnn_tf/blob/main/Indian_pines.mat\"\n",
        "#data_url_corrected = \"https://github.com/MEnisSen/indian_pines_cnn_tf/blob/7df65372911f8c40208f884954569fb717b673c8/Indian_pines_corrected.mat\"\n",
        "#data_url_groundTruth = \"https://github.com/MEnisSen/indian_pines_cnn_tf/blob/7df65372911f8c40208f884954569fb717b673c8/Indian_pines_gt.mat\"\n",
        "\n",
        "#!wget https://github.com/MEnisSen/indian_pines_cnn_tf/blob/7df65372911f8c40208f884954569fb717b673c8/Indian_pines_gt.mat\n",
        "#!wget https://github.com/MEnisSen/indian_pines_cnn_tf/blob/7df65372911f8c40208f884954569fb717b673c8/Indian_pines_corrected.mat\n",
        "#!mv Indian_pines_gt.mat\\?raw\\=true Indian_pines_gt.mat\n",
        "\n",
        "#dataset = loadmat('Indian_pines.mat')['indian_pines']\n",
        "dataset_corrected = loadmat('Indian_pines_corrected.mat')['indian_pines_corrected']\n",
        "dataset_gt = loadmat('Indian_pines_gt.mat')['indian_pines_gt']"
      ]
    },
    {
      "cell_type": "code",
      "source": [
        "dataset_corrected = np.array(dataset_corrected)\n",
        "dataset_gt = np.array(dataset_gt)\n",
        "\n",
        "dataset_corrected = np.swapaxes(dataset_corrected, 0, 1)\n",
        "dataset_corrected = np.swapaxes(dataset_corrected, 0, 2)"
      ],
      "metadata": {
        "id": "fe5ToLPNPnOd"
      },
      "execution_count": null,
      "outputs": []
    },
    {
      "cell_type": "code",
      "execution_count": null,
      "metadata": {
        "colab": {
          "base_uri": "https://localhost:8080/"
        },
        "id": "HY1kVE-Ll1hV",
        "outputId": "9aeab81d-1b29-45cf-abd6-9dffef3060c0"
      },
      "outputs": [
        {
          "output_type": "stream",
          "name": "stdout",
          "text": [
            "\n",
            "Shape of corrected data set : (200, 145, 145) \n",
            "Shape of ground truth : (145, 145)\n"
          ]
        }
      ],
      "source": [
        "print(\"\\nShape of corrected data set :\",dataset_corrected.shape,\"\\nShape of ground truth :\",dataset_gt.shape)"
      ]
    },
    {
      "cell_type": "code",
      "execution_count": null,
      "metadata": {
        "colab": {
          "base_uri": "https://localhost:8080/",
          "height": 286
        },
        "id": "dSt2OOVJndhN",
        "outputId": "19506d53-555f-45ae-b9fb-12fa1c8f85ed"
      },
      "outputs": [
        {
          "output_type": "execute_result",
          "data": {
            "text/plain": [
              "<matplotlib.image.AxesImage at 0x7f567eb7d110>"
            ]
          },
          "metadata": {},
          "execution_count": 4
        },
        {
          "output_type": "display_data",
          "data": {
            "text/plain": [
              "<Figure size 432x288 with 1 Axes>"
            ],
            "image/png": "[encoded data removed]"
          },
          "metadata": {
            "needs_background": "light"
          }
        }
      ],
      "source": [
        "fig, ax = plt.subplots(1, 1)\n",
        "ax.imshow(dataset_gt, cmap='nipy_spectral')"
      ]
    },
    {
      "cell_type": "code",
      "source": [
        "a = dataset_gt.shape[1]\n",
        "\n",
        "data = np.zeros((a**2,200))\n",
        "labels = np.zeros((a**2,1))\n",
        "\n",
        "for i in range(a):\n",
        "  for j in range(a):\n",
        "    data[i*a+j] = dataset_corrected[:, i, j]\n",
        "    labels[i*a+j] = dataset_gt[i,j]"
      ],
      "metadata": {
        "id": "25KAD6XvQ58n"
      },
      "execution_count": null,
      "outputs": []
    },
    {
      "cell_type": "code",
      "source": [
        "np.unique(labels)"
      ],
      "metadata": {
        "colab": {
          "base_uri": "https://localhost:8080/"
        },
        "id": "a1yECABFkPuu",
        "outputId": "60800371-f894-45cd-a3a5-6f63b7ad50a8"
      },
      "execution_count": null,
      "outputs": [
        {
          "output_type": "execute_result",
          "data": {
            "text/plain": [
              "array([ 0.,  1.,  2.,  3.,  4.,  5.,  6.,  7.,  8.,  9., 10., 11., 12.,\n",
              "       13., 14., 15., 16.])"
            ]
          },
          "metadata": {},
          "execution_count": 11
        }
      ]
    },
    {
      "cell_type": "code",
      "source": [
        "non_zeros = np.where(labels!=0)[0]\n",
        "data = data[non_zeros]\n",
        "labels = labels[non_zeros]"
      ],
      "metadata": {
        "id": "0Of6p5OLpztn"
      },
      "execution_count": null,
      "outputs": []
    },
    {
      "cell_type": "code",
      "source": [
        "np.unique(labels)"
      ],
      "metadata": {
        "colab": {
          "base_uri": "https://localhost:8080/"
        },
        "id": "BG3FMItA15td",
        "outputId": "9b551da2-cd86-465f-94a4-9b844c025b33"
      },
      "execution_count": null,
      "outputs": [
        {
          "output_type": "execute_result",
          "data": {
            "text/plain": [
              "array([ 1.,  2.,  3.,  4.,  5.,  6.,  7.,  8.,  9., 10., 11., 12., 13.,\n",
              "       14., 15., 16.])"
            ]
          },
          "metadata": {},
          "execution_count": 36
        }
      ]
    },
    {
      "cell_type": "code",
      "source": [
        "print(\"Number of data samples: \",data.shape)"
      ],
      "metadata": {
        "colab": {
          "base_uri": "https://localhost:8080/"
        },
        "id": "Cqo3wXFdRXfd",
        "outputId": "bb410ea8-18ed-4712-e23d-dbd5936f6e2b"
      },
      "execution_count": null,
      "outputs": [
        {
          "output_type": "stream",
          "name": "stdout",
          "text": [
            "Number of data samples:  (10249, 200)\n"
          ]
        }
      ]
    },
    {
      "cell_type": "code",
      "source": [
        "from sklearn.model_selection import train_test_split\n",
        "\n",
        "(x_train, x_test, y_train, y_test) = train_test_split(data, labels, test_size=0.5)\n",
        "print(\"Number of train samples: \",y_train.shape[0], \"\\nNumber of test samples: \",y_test.shape[0])"
      ],
      "metadata": {
        "colab": {
          "base_uri": "https://localhost:8080/"
        },
        "id": "5u6vzkdlRed2",
        "outputId": "ab67b3aa-afa1-46a2-d163-b0f983d759ec"
      },
      "execution_count": null,
      "outputs": [
        {
          "output_type": "stream",
          "name": "stdout",
          "text": [
            "Number of train samples:  5124 \n",
            "Number of test samples:  5125\n"
          ]
        }
      ]
    },
    {
      "cell_type": "markdown",
      "source": [
        "## **1D CNN**"
      ],
      "metadata": {
        "id": "Gj5d2NynnWXN"
      }
    },
    {
      "cell_type": "code",
      "source": [
        "import tensorflow as tf\n",
        "from keras.preprocessing.image import ImageDataGenerator\n",
        "\n",
        "model = tf.keras.models.Sequential([\n",
        "      tf.keras.layers.Conv1D(64, 3, activation='relu', input_shape=(200,1)),\n",
        "      tf.keras.layers.MaxPooling1D(2),\n",
        "      tf.keras.layers.Conv1D(128, 3, activation='relu'),\n",
        "      tf.keras.layers.MaxPooling1D(2),\n",
        "      tf.keras.layers.Flatten(),\n",
        "      tf.keras.layers.Dense(256, activation='relu'),\n",
        "      #tf.keras.layers.Dropout(0.1),\n",
        "      tf.keras.layers.Dense(17, activation='softmax')\n",
        "  ])\n",
        "\n",
        "model.compile(optimizer = tf.keras.optimizers.RMSprop(learning_rate=0.001),\n",
        "              loss = 'sparse_categorical_crossentropy',\n",
        "              metrics=['accuracy']) \n",
        "\n",
        "history = model.fit(x_train, y_train, epochs=50)"
      ],
      "metadata": {
        "colab": {
          "base_uri": "https://localhost:8080/"
        },
        "id": "H-8ogLVKSL0-",
        "outputId": "ed93aea1-a283-4abe-c216-fbf3f1f654df"
      },
      "execution_count": null,
      "outputs": [
        {
          "output_type": "stream",
          "name": "stdout",
          "text": [
            "Epoch 1/50\n",
            "161/161 [==============================] - 34s 39ms/step - loss: 69.0007 - accuracy: 0.2879\n",
            "Epoch 2/50\n",
            "161/161 [==============================] - 6s 39ms/step - loss: 2.3037 - accuracy: 0.3755\n",
            "Epoch 3/50\n",
            "161/161 [==============================] - 6s 39ms/step - loss: 2.6407 - accuracy: 0.4030\n",
            "Epoch 4/50\n",
            "161/161 [==============================] - 6s 40ms/step - loss: 1.6663 - accuracy: 0.4358\n",
            "Epoch 5/50\n",
            "161/161 [==============================] - 6s 39ms/step - loss: 1.6047 - accuracy: 0.4463\n",
            "Epoch 6/50\n",
            "161/161 [==============================] - 6s 39ms/step - loss: 1.6417 - accuracy: 0.4645\n",
            "Epoch 7/50\n",
            "161/161 [==============================] - 6s 39ms/step - loss: 1.5064 - accuracy: 0.4852\n",
            "Epoch 8/50\n",
            "161/161 [==============================] - 6s 39ms/step - loss: 1.6079 - accuracy: 0.5115\n",
            "Epoch 9/50\n",
            "161/161 [==============================] - 6s 39ms/step - loss: 1.3206 - accuracy: 0.5082\n",
            "Epoch 10/50\n",
            "161/161 [==============================] - 7s 43ms/step - loss: 1.4002 - accuracy: 0.5211\n",
            "Epoch 11/50\n",
            "161/161 [==============================] - 6s 39ms/step - loss: 1.2883 - accuracy: 0.5332\n",
            "Epoch 12/50\n",
            "161/161 [==============================] - 6s 39ms/step - loss: 1.2415 - accuracy: 0.5359\n",
            "Epoch 13/50\n",
            "161/161 [==============================] - 6s 39ms/step - loss: 1.3486 - accuracy: 0.5589\n",
            "Epoch 14/50\n",
            "161/161 [==============================] - 6s 39ms/step - loss: 1.1987 - accuracy: 0.5412\n",
            "Epoch 15/50\n",
            "161/161 [==============================] - 6s 39ms/step - loss: 1.2767 - accuracy: 0.5490\n",
            "Epoch 16/50\n",
            "161/161 [==============================] - 6s 39ms/step - loss: 1.1532 - accuracy: 0.5595\n",
            "Epoch 17/50\n",
            "161/161 [==============================] - 6s 39ms/step - loss: 1.1805 - accuracy: 0.5599\n",
            "Epoch 18/50\n",
            "161/161 [==============================] - 6s 39ms/step - loss: 1.1129 - accuracy: 0.5681\n",
            "Epoch 19/50\n",
            "161/161 [==============================] - 6s 39ms/step - loss: 1.1153 - accuracy: 0.5638\n",
            "Epoch 20/50\n",
            "161/161 [==============================] - 6s 39ms/step - loss: 1.2146 - accuracy: 0.5829\n",
            "Epoch 21/50\n",
            "161/161 [==============================] - 6s 39ms/step - loss: 1.1016 - accuracy: 0.5783\n",
            "Epoch 22/50\n",
            "161/161 [==============================] - 6s 39ms/step - loss: 1.0975 - accuracy: 0.5763\n",
            "Epoch 23/50\n",
            "161/161 [==============================] - 6s 39ms/step - loss: 1.0780 - accuracy: 0.5964\n",
            "Epoch 24/50\n",
            "161/161 [==============================] - 6s 39ms/step - loss: 1.0811 - accuracy: 0.5800\n",
            "Epoch 25/50\n",
            "161/161 [==============================] - 6s 39ms/step - loss: 1.0610 - accuracy: 0.5929\n",
            "Epoch 26/50\n",
            "161/161 [==============================] - 6s 39ms/step - loss: 1.0498 - accuracy: 0.6042\n",
            "Epoch 27/50\n",
            "161/161 [==============================] - 6s 39ms/step - loss: 1.1263 - accuracy: 0.5984\n",
            "Epoch 28/50\n",
            "161/161 [==============================] - 6s 39ms/step - loss: 1.0533 - accuracy: 0.6040\n",
            "Epoch 29/50\n",
            "161/161 [==============================] - 6s 39ms/step - loss: 1.0203 - accuracy: 0.6124\n",
            "Epoch 30/50\n",
            "161/161 [==============================] - 6s 39ms/step - loss: 1.0271 - accuracy: 0.6138\n",
            "Epoch 31/50\n",
            "161/161 [==============================] - 6s 39ms/step - loss: 1.0932 - accuracy: 0.6093\n",
            "Epoch 32/50\n",
            "161/161 [==============================] - 6s 39ms/step - loss: 1.0037 - accuracy: 0.6134\n",
            "Epoch 33/50\n",
            "161/161 [==============================] - 8s 50ms/step - loss: 1.0181 - accuracy: 0.6183\n",
            "Epoch 34/50\n",
            "161/161 [==============================] - 7s 45ms/step - loss: 0.9769 - accuracy: 0.6231\n",
            "Epoch 35/50\n",
            "161/161 [==============================] - 6s 39ms/step - loss: 1.1159 - accuracy: 0.6163\n",
            "Epoch 36/50\n",
            "161/161 [==============================] - 6s 39ms/step - loss: 0.9544 - accuracy: 0.6325\n",
            "Epoch 37/50\n",
            "161/161 [==============================] - 6s 39ms/step - loss: 1.0024 - accuracy: 0.6171\n",
            "Epoch 38/50\n",
            "161/161 [==============================] - 6s 39ms/step - loss: 0.9768 - accuracy: 0.6308\n",
            "Epoch 39/50\n",
            "161/161 [==============================] - 6s 39ms/step - loss: 0.9880 - accuracy: 0.6220\n",
            "Epoch 40/50\n",
            "161/161 [==============================] - 6s 39ms/step - loss: 0.9520 - accuracy: 0.6372\n",
            "Epoch 41/50\n",
            "161/161 [==============================] - 6s 39ms/step - loss: 0.9516 - accuracy: 0.6409\n",
            "Epoch 42/50\n",
            "161/161 [==============================] - 6s 39ms/step - loss: 0.9362 - accuracy: 0.6479\n",
            "Epoch 43/50\n",
            "161/161 [==============================] - 6s 39ms/step - loss: 0.9599 - accuracy: 0.6466\n",
            "Epoch 44/50\n",
            "161/161 [==============================] - 6s 39ms/step - loss: 0.9199 - accuracy: 0.6569\n",
            "Epoch 45/50\n",
            "161/161 [==============================] - 6s 39ms/step - loss: 0.9404 - accuracy: 0.6534\n",
            "Epoch 46/50\n",
            "161/161 [==============================] - 6s 39ms/step - loss: 0.9019 - accuracy: 0.6622\n",
            "Epoch 47/50\n",
            "161/161 [==============================] - 6s 39ms/step - loss: 0.8847 - accuracy: 0.6641\n",
            "Epoch 48/50\n",
            "161/161 [==============================] - 6s 39ms/step - loss: 0.9381 - accuracy: 0.6653\n",
            "Epoch 49/50\n",
            "161/161 [==============================] - 6s 39ms/step - loss: 0.8850 - accuracy: 0.6723\n",
            "Epoch 50/50\n",
            "161/161 [==============================] - 6s 39ms/step - loss: 0.9082 - accuracy: 0.6663\n"
          ]
        }
      ]
    },
    {
      "cell_type": "code",
      "source": [
        "model.evaluate(x_test, y_test, batch_size=128)"
      ],
      "metadata": {
        "colab": {
          "base_uri": "https://localhost:8080/"
        },
        "id": "-RdoW-xjltOG",
        "outputId": "6f392306-18d1-4576-f3f1-9e67a8dc18a0"
      },
      "execution_count": null,
      "outputs": [
        {
          "output_type": "stream",
          "name": "stdout",
          "text": [
            "41/41 [==============================] - 1s 29ms/step - loss: 1.2941 - accuracy: 0.5309\n"
          ]
        },
        {
          "output_type": "execute_result",
          "data": {
            "text/plain": [
              "[1.2940926551818848, 0.5309268236160278]"
            ]
          },
          "metadata": {},
          "execution_count": 42
        }
      ]
    },
    {
      "cell_type": "code",
      "source": [
        "fig, ax = plt.subplots(1, 1)\n",
        "ax.plot(history.history['accuracy'])"
      ],
      "metadata": {
        "colab": {
          "base_uri": "https://localhost:8080/",
          "height": 282
        },
        "id": "TYRP23XTmXAz",
        "outputId": "f8700ef4-777c-4203-daee-b9b00b245c51"
      },
      "execution_count": null,
      "outputs": [
        {
          "output_type": "execute_result",
          "data": {
            "text/plain": [
              "[<matplotlib.lines.Line2D at 0x7f56101215d0>]"
            ]
          },
          "metadata": {},
          "execution_count": 13
        },
        {
          "output_type": "display_data",
          "data": {
            "text/plain": [
              "<Figure size 432x288 with 1 Axes>"
            ],
            "image/png": "[encoded data removed]"
          },
          "metadata": {
            "needs_background": "light"
          }
        }
      ]
    },
    {
      "cell_type": "code",
      "source": [
        "test_num = 3\n",
        "preds = model.predict(x_test[:test_num])\n",
        "print(\"Predicted value :\", preds, \", Actual value :\", y_test[test_num])"
      ],
      "metadata": {
        "colab": {
          "base_uri": "https://localhost:8080/"
        },
        "id": "T1rpNTMLlugY",
        "outputId": "b1a4e79c-0fa4-4470-acd7-28befc4ee738"
      },
      "execution_count": null,
      "outputs": [
        {
          "output_type": "stream",
          "name": "stdout",
          "text": [
            "1/1 [==============================] - 0s 19ms/step\n",
            "Predicted value : [[9.4122535e-01 9.2422142e-13 2.8473462e-08 9.7559374e-09 2.7819498e-08\n",
            "  9.7825468e-05 3.9223727e-02 4.3598403e-16 1.8713302e-10 6.4539276e-13\n",
            "  2.1288836e-10 1.2386432e-08 2.0156884e-08 1.8452934e-03 7.5731669e-03\n",
            "  1.0034672e-02 5.8995258e-09]\n",
            " [7.0605785e-02 9.8982089e-16 3.7925366e-02 1.5752170e-02 8.6298140e-05\n",
            "  1.0768800e-11 2.2635514e-10 8.1918054e-14 1.8007132e-10 1.7319938e-17\n",
            "  4.7737879e-01 3.8746843e-01 9.8126223e-03 6.4477767e-14 2.5216964e-12\n",
            "  2.2094865e-12 9.7055605e-04]\n",
            " [3.5543704e-01 1.6409531e-05 8.8146985e-02 1.6687590e-01 7.8062855e-02\n",
            "  3.5232219e-03 1.7187778e-03 7.8471651e-04 1.0234145e-03 2.5004701e-11\n",
            "  3.0938813e-02 7.9448543e-02 1.9044681e-01 5.9099275e-08 9.3248291e-06\n",
            "  8.2792685e-04 2.7391443e-03]] , Actual value : [3.]\n"
          ]
        }
      ]
    }
  ],
  "metadata": {
    "colab": {
      "provenance": [],
      "authorship_tag": "ABX9TyPngAcRmUnCbbv9boOZ8xPE",
      "include_colab_link": true
    },
    "kernelspec": {
      "display_name": "Python 3",
      "name": "python3"
    },
    "language_info": {
      "name": "python"
    }
  },
  "nbformat": 4,
  "nbformat_minor": 0
}